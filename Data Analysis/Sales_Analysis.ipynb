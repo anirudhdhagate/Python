{
  "metadata": {
    "kernelspec": {
      "language": "python",
      "display_name": "Python 3",
      "name": "python3"
    },
    "language_info": {
      "name": "python",
      "version": "3.10.13",
      "mimetype": "text/x-python",
      "codemirror_mode": {
        "name": "ipython",
        "version": 3
      },
      "pygments_lexer": "ipython3",
      "nbconvert_exporter": "python",
      "file_extension": ".py"
    },
    "kaggle": {
      "accelerator": "none",
      "dataSources": [
        {
          "sourceId": 8116930,
          "sourceType": "datasetVersion",
          "datasetId": 4795704
        }
      ],
      "dockerImageVersionId": 30684,
      "isInternetEnabled": true,
      "language": "python",
      "sourceType": "notebook",
      "isGpuEnabled": false
    },
    "colab": {
      "provenance": []
    }
  },
  "nbformat_minor": 0,
  "nbformat": 4,
  "cells": [
    {
      "cell_type": "markdown",
      "source": [
        "# Sales Analysis"
      ],
      "metadata": {
        "id": "NInJQc-9OHnX"
      }
    },
    {
      "cell_type": "markdown",
      "source": [
        "#### Importing the necessary libraries"
      ],
      "metadata": {
        "id": "99g-OhqSOHnY"
      }
    },
    {
      "cell_type": "code",
      "source": [
        "import pandas as pd\n",
        "import os"
      ],
      "metadata": {
        "trusted": true,
        "id": "bPHRK6_NOHnY"
      },
      "execution_count": 1,
      "outputs": []
    },
    {
      "cell_type": "markdown",
      "source": [
        "#### Listing all the files in current working directory"
      ],
      "metadata": {
        "id": "Rv__h7bYOHnZ"
      }
    },
    {
      "cell_type": "code",
      "source": [
        "os.listdir()"
      ],
      "metadata": {
        "trusted": true,
        "colab": {
          "base_uri": "https://localhost:8080/"
        },
        "id": "DKNhTXQcOHnZ",
        "outputId": "c584a2ec-2d8e-4327-ffd5-4831068c6c50"
      },
      "execution_count": 2,
      "outputs": [
        {
          "output_type": "execute_result",
          "data": {
            "text/plain": [
              "['.config', 'sample_data']"
            ]
          },
          "metadata": {},
          "execution_count": 2
        }
      ]
    },
    {
      "cell_type": "code",
      "source": [
        "files = [file for file in os.listdir()]"
      ],
      "metadata": {
        "trusted": true,
        "id": "hFhccJMkOHna"
      },
      "execution_count": 17,
      "outputs": []
    },
    {
      "cell_type": "code",
      "source": [
        "print(files)"
      ],
      "metadata": {
        "trusted": true,
        "colab": {
          "base_uri": "https://localhost:8080/"
        },
        "id": "Xv9n-9JAOHnb",
        "outputId": "b3e72b87-d707-4cb0-cc6a-165d37307cb8"
      },
      "execution_count": 18,
      "outputs": [
        {
          "output_type": "stream",
          "name": "stdout",
          "text": [
            "['.config', '.ipynb_checkpoints', 'Sales_April_2019.csv', 'Sales Data', 'sample_data']\n"
          ]
        }
      ]
    },
    {
      "cell_type": "markdown",
      "source": [
        "#### Merging 12 months of sales data into single csv file"
      ],
      "metadata": {
        "execution": {
          "iopub.status.busy": "2024-04-14T13:48:01.520394Z",
          "iopub.execute_input": "2024-04-14T13:48:01.520850Z",
          "iopub.status.idle": "2024-04-14T13:48:01.529501Z",
          "shell.execute_reply.started": "2024-04-14T13:48:01.520819Z",
          "shell.execute_reply": "2024-04-14T13:48:01.527504Z"
        },
        "id": "8KoCV5X9OHnb"
      }
    },
    {
      "cell_type": "code",
      "source": [
        "data = pd.DataFrame()\n",
        "for file in files:\n",
        "  df = pd.read_csv('./' + file)\n",
        "  data = pd.concat([data, df])"
      ],
      "metadata": {
        "trusted": true,
        "id": "cg5ypWVROHnc"
      },
      "execution_count": null,
      "outputs": []
    },
    {
      "cell_type": "markdown",
      "source": [
        "#### Data Cleaning/Preprocessing:"
      ],
      "metadata": {
        "id": "2XjAHgm_OHnd"
      }
    },
    {
      "cell_type": "markdown",
      "source": [
        "#### Augment data with additional columns"
      ],
      "metadata": {
        "id": "cDZ_dlxlOHnd"
      }
    },
    {
      "cell_type": "code",
      "source": [
        "data.dropna(inplace = True)"
      ],
      "metadata": {
        "trusted": true,
        "id": "yQG2GOJ3OHne"
      },
      "execution_count": null,
      "outputs": []
    },
    {
      "cell_type": "code",
      "source": [
        "data['Order Month'] = data['Order Date'].str[0:2]\n",
        "data['Order Month']"
      ],
      "metadata": {
        "trusted": true,
        "id": "CANr4gVXOHne"
      },
      "execution_count": null,
      "outputs": []
    },
    {
      "cell_type": "markdown",
      "source": [
        "#### Dropping null/na values"
      ],
      "metadata": {
        "id": "J_DDltITOHne"
      }
    },
    {
      "cell_type": "code",
      "source": [
        "temp_df = data[data['Order Date'].str[0:2] == 'Or']\n",
        "temp_df"
      ],
      "metadata": {
        "trusted": true,
        "id": "S5eE-xtIOHnf"
      },
      "execution_count": null,
      "outputs": []
    },
    {
      "cell_type": "markdown",
      "source": [
        "#### Resolving descrepancy in Order date column"
      ],
      "metadata": {
        "id": "vM1m0OENOHnf"
      }
    },
    {
      "cell_type": "code",
      "source": [
        "data = data[data['Order Date'].str[0:2] != 'Or']\n",
        "data['Order Month'] = pd.to_numeric(data['Order Month'])"
      ],
      "metadata": {
        "trusted": true,
        "id": "8KCUP-20OHnf"
      },
      "execution_count": null,
      "outputs": []
    },
    {
      "cell_type": "markdown",
      "source": [
        "#### Changing column data type to respective numeric datatype"
      ],
      "metadata": {
        "execution": {
          "iopub.status.busy": "2024-04-15T05:04:08.268369Z",
          "iopub.execute_input": "2024-04-15T05:04:08.268719Z",
          "iopub.status.idle": "2024-04-15T05:04:08.273618Z",
          "shell.execute_reply.started": "2024-04-15T05:04:08.268693Z",
          "shell.execute_reply": "2024-04-15T05:04:08.272262Z"
        },
        "id": "5U4ZLiSxOHng"
      }
    },
    {
      "cell_type": "code",
      "source": [
        "data['Quantity Ordered'] = pd.to_numeric(data['Quantity Ordered'])\n",
        "data['Price Each'] = pd.to_numeric(data['Price Each'])"
      ],
      "metadata": {
        "trusted": true,
        "id": "4vdndmuvOHng"
      },
      "execution_count": null,
      "outputs": []
    },
    {
      "cell_type": "markdown",
      "source": [
        "#### Calculating the required column values and augmenting"
      ],
      "metadata": {
        "id": "-ka9CqCnOHng"
      }
    },
    {
      "cell_type": "code",
      "source": [
        "data['Sales Amount'] = data['Quantity Ordered'] * data['Price Each']\n",
        "data['Sales Amount']"
      ],
      "metadata": {
        "trusted": true,
        "id": "t_8TtlsDOHng"
      },
      "execution_count": null,
      "outputs": []
    },
    {
      "cell_type": "markdown",
      "source": [
        "### Question 1: What was the best month for sales? What were the profits made that month?"
      ],
      "metadata": {
        "id": "WpwRTEyZOHng"
      }
    },
    {
      "cell_type": "code",
      "source": [
        "results = data[['Sales Amount', 'Order Month']].groupby('Order Month').sum()\n",
        "results"
      ],
      "metadata": {
        "trusted": true,
        "id": "x2vVey1LOHnh"
      },
      "execution_count": null,
      "outputs": []
    },
    {
      "cell_type": "markdown",
      "source": [
        "#### Importing visualization libraries, and plotting a bar chart indicating sales amount per month"
      ],
      "metadata": {
        "execution": {
          "iopub.status.busy": "2024-04-15T05:11:36.253838Z",
          "iopub.execute_input": "2024-04-15T05:11:36.254210Z",
          "iopub.status.idle": "2024-04-15T05:11:36.258870Z",
          "shell.execute_reply.started": "2024-04-15T05:11:36.254185Z",
          "shell.execute_reply": "2024-04-15T05:11:36.257778Z"
        },
        "id": "ubQ8WPF1OHnh"
      }
    },
    {
      "cell_type": "code",
      "source": [
        "import matplotlib.pyplot as plt\n",
        "\n",
        "months = range(1, 13)\n",
        "\n",
        "plt.bar(months, results['Sales Amount'])\n",
        "plt.xticks(months)\n",
        "plt.ylabel('Sales in USD $')\n",
        "plt.xlabel('Months')\n",
        "plt.show()"
      ],
      "metadata": {
        "trusted": true,
        "id": "jquXP_aEOHnh"
      },
      "execution_count": null,
      "outputs": []
    },
    {
      "cell_type": "markdown",
      "source": [
        "### Question 2: What city had the highest number of sales?"
      ],
      "metadata": {
        "id": "ByAus0jgOHnh"
      }
    },
    {
      "cell_type": "markdown",
      "source": [
        "#### Add city column"
      ],
      "metadata": {
        "id": "vENzdBqjOHnh"
      }
    },
    {
      "cell_type": "code",
      "source": [
        "def get_city(address):\n",
        "    return address.split(',')[1]\n",
        "\n",
        "def get_state(address):\n",
        "    return address.split(',')[2].split(' ')[1]\n",
        "\n",
        "data['City'] = data['Purchase Address'].apply(lambda x: f\"{get_city(x)} ({get_state(x)})\")"
      ],
      "metadata": {
        "trusted": true,
        "id": "PZ5dLKPoOHni"
      },
      "execution_count": null,
      "outputs": []
    },
    {
      "cell_type": "code",
      "source": [
        "results = data[['Sales Amount', 'City']].groupby('City').sum()\n",
        "results"
      ],
      "metadata": {
        "trusted": true,
        "id": "oXttv2WwOHni"
      },
      "execution_count": null,
      "outputs": []
    },
    {
      "cell_type": "code",
      "source": [
        "cities = [city for city, df in data.groupby('City')]\n",
        "\n",
        "plt.bar(cities, results['Sales Amount'])\n",
        "plt.xticks(cities, rotation = 45, size = 8)\n",
        "plt.ylabel('Sales in USD $')\n",
        "plt.xlabel('Cities')\n",
        "plt.tight_layout()"
      ],
      "metadata": {
        "trusted": true,
        "id": "2jglDmB6OHni"
      },
      "execution_count": null,
      "outputs": []
    },
    {
      "cell_type": "markdown",
      "source": [
        "### Question 3: What time should we display advertisements to maximize likelihood of customers buying product?"
      ],
      "metadata": {
        "id": "ePk8QGnlOHni"
      }
    },
    {
      "cell_type": "code",
      "source": [
        "data['Order Date'] = pd.to_datetime(data['Order Date'])"
      ],
      "metadata": {
        "trusted": true,
        "id": "AOYV1uyOOHni"
      },
      "execution_count": null,
      "outputs": []
    },
    {
      "cell_type": "code",
      "source": [
        "data['Hour'] = data['Order Date'].dt.hour"
      ],
      "metadata": {
        "trusted": true,
        "id": "vtQtVbFYOHnj"
      },
      "execution_count": null,
      "outputs": []
    },
    {
      "cell_type": "code",
      "source": [
        "data['Minute'] = data['Order Date'].dt.minute"
      ],
      "metadata": {
        "trusted": true,
        "id": "QBG9RSGdOHnj"
      },
      "execution_count": null,
      "outputs": []
    },
    {
      "cell_type": "code",
      "source": [
        "hours = [hour for hour, df in data.groupby('Hour')]\n",
        "\n",
        "plt.plot(hours, data.groupby('Hour').count())\n",
        "plt.xticks(hours)\n",
        "plt.xlabel(\"Hour of day\")\n",
        "plt.ylabel('Number of Orders')\n",
        "plt.grid()\n",
        "plt.show()"
      ],
      "metadata": {
        "trusted": true,
        "id": "pa6xrZZVOHnj"
      },
      "execution_count": null,
      "outputs": []
    },
    {
      "cell_type": "markdown",
      "source": [
        "### Question 4: What products are most often sold together?"
      ],
      "metadata": {
        "id": "6DQxAiaBOHnj"
      }
    },
    {
      "cell_type": "code",
      "source": [
        "df = data[data['Order ID'].duplicated(keep = False)]\n",
        "df['Grouped Products'] = df.groupby('Order ID')['Product'].transform(lambda x: ', '.join(x))"
      ],
      "metadata": {
        "trusted": true,
        "id": "bQtmrraLOHnu"
      },
      "execution_count": null,
      "outputs": []
    },
    {
      "cell_type": "code",
      "source": [
        "df = df[['Order ID', 'Grouped Products']].drop_duplicates()"
      ],
      "metadata": {
        "trusted": true,
        "id": "y8Jzkyf5OHnu"
      },
      "execution_count": null,
      "outputs": []
    },
    {
      "cell_type": "code",
      "source": [
        "from itertools import combinations\n",
        "from collections import Counter"
      ],
      "metadata": {
        "trusted": true,
        "id": "ig4ydXQMOHnv"
      },
      "execution_count": null,
      "outputs": []
    },
    {
      "cell_type": "code",
      "source": [
        "count = Counter()\n",
        "\n",
        "for row in df['Grouped Products']:\n",
        "    row_list = row.split(',')\n",
        "    count.update(Counter(combinations(row_list, 2)))\n",
        "\n",
        "count.most_common(10)"
      ],
      "metadata": {
        "trusted": true,
        "id": "0aRmSvGVOHnv"
      },
      "execution_count": null,
      "outputs": []
    },
    {
      "cell_type": "code",
      "source": [
        "for key, value in count.most_common(10):\n",
        "    print(key, value)"
      ],
      "metadata": {
        "trusted": true,
        "id": "5ClofNNPOHnv"
      },
      "execution_count": null,
      "outputs": []
    },
    {
      "cell_type": "markdown",
      "source": [
        "### Question 5: What product sold the most? Why do you think it sold the most?"
      ],
      "metadata": {
        "execution": {
          "iopub.status.busy": "2024-04-14T18:36:11.168664Z",
          "iopub.execute_input": "2024-04-14T18:36:11.169059Z",
          "iopub.status.idle": "2024-04-14T18:36:11.177871Z",
          "shell.execute_reply.started": "2024-04-14T18:36:11.169030Z",
          "shell.execute_reply": "2024-04-14T18:36:11.176519Z"
        },
        "id": "CKo8rbqmOHnv"
      }
    },
    {
      "cell_type": "code",
      "source": [
        "products_grouped = data.drop('Order Date', axis = 1).groupby('Product')"
      ],
      "metadata": {
        "trusted": true,
        "id": "Iuj0zS-JOHnw"
      },
      "execution_count": null,
      "outputs": []
    },
    {
      "cell_type": "code",
      "source": [
        "quantity_ordered = products_grouped.sum()['Quantity Ordered']"
      ],
      "metadata": {
        "trusted": true,
        "id": "HWAN5dTROHnw"
      },
      "execution_count": null,
      "outputs": []
    },
    {
      "cell_type": "code",
      "source": [
        "quantity_ordered.sort_values(ascending=False)"
      ],
      "metadata": {
        "trusted": true,
        "id": "ngLyMmvOOHnw"
      },
      "execution_count": null,
      "outputs": []
    },
    {
      "cell_type": "code",
      "source": [
        "products = [product for product, df in products_grouped]\n",
        "\n",
        "plt.bar(products, quantity_ordered)\n",
        "plt.xticks(rotation = 'vertical')\n",
        "plt.ylabel('Quantity ordered')\n",
        "plt.xlabel('Product ordered')\n",
        "plt.show()"
      ],
      "metadata": {
        "trusted": true,
        "id": "eKmWePaMOHnw"
      },
      "execution_count": null,
      "outputs": []
    },
    {
      "cell_type": "code",
      "source": [
        "prices = data[['Product', 'Price Each']].groupby('Product').mean()['Price Each']"
      ],
      "metadata": {
        "trusted": true,
        "id": "nWdcBktROHnx"
      },
      "execution_count": null,
      "outputs": []
    },
    {
      "cell_type": "code",
      "source": [
        "fig, ax1 = plt.subplots()\n",
        "\n",
        "ax2 = ax1.twinx()\n",
        "ax1.bar(keys, quantity_ordered, color = 'g')\n",
        "ax2.plot(keys, prices, color = 'b')\n",
        "\n",
        "ax1.set_xlabel('Product')\n",
        "ax1.set_ylabel('Quantity ordered', color = 'g')\n",
        "ax2.set_ylabel('Price in $', color = 'b')\n",
        "ax1.set_xticklabels(keys, rotation = 'vertical', size = 8)\n",
        "\n",
        "fig.show()"
      ],
      "metadata": {
        "trusted": true,
        "id": "9SPI-MnrOHnx"
      },
      "execution_count": null,
      "outputs": []
    }
  ]
}
