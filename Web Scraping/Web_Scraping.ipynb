{
  "metadata": {
    "kernelspec": {
      "language": "python",
      "display_name": "Python 3",
      "name": "python3"
    },
    "language_info": {
      "name": "python",
      "version": "3.10.12",
      "mimetype": "text/x-python",
      "codemirror_mode": {
        "name": "ipython",
        "version": 3
      },
      "pygments_lexer": "ipython3",
      "nbconvert_exporter": "python",
      "file_extension": ".py"
    },
    "kaggle": {
      "accelerator": "none",
      "dataSources": [],
      "dockerImageVersionId": 30587,
      "isInternetEnabled": true,
      "language": "python",
      "sourceType": "notebook",
      "isGpuEnabled": false
    },
    "colab": {
      "name": "Web Scraping",
      "provenance": [],
      "include_colab_link": true
    }
  },
  "nbformat_minor": 0,
  "nbformat": 4,
  "cells": [
    {
      "cell_type": "markdown",
      "metadata": {
        "id": "view-in-github",
        "colab_type": "text"
      },
      "source": [
        "<a href=\"https://colab.research.google.com/github/anirudhdhagate/ML/blob/main/Web_Scraping.ipynb\" target=\"_parent\"><img src=\"https://colab.research.google.com/assets/colab-badge.svg\" alt=\"Open In Colab\"/></a>"
      ]
    },
    {
      "cell_type": "code",
      "source": [
        "from bs4 import BeautifulSoup\n",
        "import requests"
      ],
      "metadata": {
        "execution": {
          "iopub.status.busy": "2024-01-30T04:58:43.381584Z",
          "iopub.execute_input": "2024-01-30T04:58:43.381964Z",
          "iopub.status.idle": "2024-01-30T04:58:43.386972Z",
          "shell.execute_reply.started": "2024-01-30T04:58:43.381936Z",
          "shell.execute_reply": "2024-01-30T04:58:43.385916Z"
        },
        "trusted": true,
        "id": "eyHmtU15V9Xp"
      },
      "execution_count": null,
      "outputs": []
    },
    {
      "cell_type": "code",
      "source": [
        "url = 'https://en.wikipedia.org/wiki/List_of_largest_companies_in_the_United_States_by_revenue'\n",
        "\n",
        "page = requests.get(url)\n",
        "\n",
        "soup = BeautifulSoup(page.text, 'html')"
      ],
      "metadata": {
        "execution": {
          "iopub.status.busy": "2024-01-30T04:58:43.389899Z",
          "iopub.execute_input": "2024-01-30T04:58:43.390328Z",
          "iopub.status.idle": "2024-01-30T04:58:43.538476Z",
          "shell.execute_reply.started": "2024-01-30T04:58:43.390289Z",
          "shell.execute_reply": "2024-01-30T04:58:43.537525Z"
        },
        "trusted": true,
        "id": "s45cdHUpV9Xr"
      },
      "execution_count": null,
      "outputs": []
    },
    {
      "cell_type": "code",
      "source": [
        "table = soup.find_all('table')[1]"
      ],
      "metadata": {
        "execution": {
          "iopub.status.busy": "2024-01-30T04:58:43.539963Z",
          "iopub.execute_input": "2024-01-30T04:58:43.540287Z",
          "iopub.status.idle": "2024-01-30T04:58:43.548334Z",
          "shell.execute_reply.started": "2024-01-30T04:58:43.540259Z",
          "shell.execute_reply": "2024-01-30T04:58:43.547575Z"
        },
        "trusted": true,
        "id": "hWtWB1DgV9Xr"
      },
      "execution_count": null,
      "outputs": []
    },
    {
      "cell_type": "code",
      "source": [
        "world_titles = table.find_all('th')"
      ],
      "metadata": {
        "execution": {
          "iopub.status.busy": "2024-01-30T04:58:43.549578Z",
          "iopub.execute_input": "2024-01-30T04:58:43.549929Z",
          "iopub.status.idle": "2024-01-30T04:58:43.560968Z",
          "shell.execute_reply.started": "2024-01-30T04:58:43.5499Z",
          "shell.execute_reply": "2024-01-30T04:58:43.559973Z"
        },
        "trusted": true,
        "id": "ZZCbWrs_V9Xr"
      },
      "execution_count": null,
      "outputs": []
    },
    {
      "cell_type": "code",
      "source": [
        "world_table_titles = [title.text.strip() for title in world_titles]"
      ],
      "metadata": {
        "execution": {
          "iopub.status.busy": "2024-01-30T04:58:43.56334Z",
          "iopub.execute_input": "2024-01-30T04:58:43.563669Z",
          "iopub.status.idle": "2024-01-30T04:58:43.573016Z",
          "shell.execute_reply.started": "2024-01-30T04:58:43.563641Z",
          "shell.execute_reply": "2024-01-30T04:58:43.571811Z"
        },
        "trusted": true,
        "id": "23G6tz9HV9Xr"
      },
      "execution_count": null,
      "outputs": []
    },
    {
      "cell_type": "code",
      "source": [
        "print(world_table_titles)"
      ],
      "metadata": {
        "execution": {
          "iopub.status.busy": "2024-01-30T04:58:43.574205Z",
          "iopub.execute_input": "2024-01-30T04:58:43.574496Z",
          "iopub.status.idle": "2024-01-30T04:58:43.582121Z",
          "shell.execute_reply.started": "2024-01-30T04:58:43.574469Z",
          "shell.execute_reply": "2024-01-30T04:58:43.581046Z"
        },
        "trusted": true,
        "id": "70_7peeuV9Xs"
      },
      "execution_count": null,
      "outputs": []
    },
    {
      "cell_type": "code",
      "source": [
        "import pandas as pd"
      ],
      "metadata": {
        "execution": {
          "iopub.status.busy": "2024-01-30T04:58:43.583267Z",
          "iopub.execute_input": "2024-01-30T04:58:43.583547Z",
          "iopub.status.idle": "2024-01-30T04:58:43.589618Z",
          "shell.execute_reply.started": "2024-01-30T04:58:43.58351Z",
          "shell.execute_reply": "2024-01-30T04:58:43.588608Z"
        },
        "trusted": true,
        "id": "6RnXjyqbV9Xs"
      },
      "execution_count": null,
      "outputs": []
    },
    {
      "cell_type": "code",
      "source": [
        "df = pd.DataFrame(columns = world_table_titles)"
      ],
      "metadata": {
        "execution": {
          "iopub.status.busy": "2024-01-30T04:58:43.590885Z",
          "iopub.execute_input": "2024-01-30T04:58:43.591173Z",
          "iopub.status.idle": "2024-01-30T04:58:43.600569Z",
          "shell.execute_reply.started": "2024-01-30T04:58:43.591147Z",
          "shell.execute_reply": "2024-01-30T04:58:43.599647Z"
        },
        "trusted": true,
        "id": "fjcs2XhNV9Xs"
      },
      "execution_count": null,
      "outputs": []
    },
    {
      "cell_type": "code",
      "source": [
        "df"
      ],
      "metadata": {
        "execution": {
          "iopub.status.busy": "2024-01-30T04:58:43.60205Z",
          "iopub.execute_input": "2024-01-30T04:58:43.602363Z",
          "iopub.status.idle": "2024-01-30T04:58:43.615335Z",
          "shell.execute_reply.started": "2024-01-30T04:58:43.602335Z",
          "shell.execute_reply": "2024-01-30T04:58:43.614468Z"
        },
        "trusted": true,
        "id": "5Kcfw5GyV9Xs"
      },
      "execution_count": null,
      "outputs": []
    },
    {
      "cell_type": "code",
      "source": [
        "column_data = table.find_all('tr')"
      ],
      "metadata": {
        "execution": {
          "iopub.status.busy": "2024-01-30T04:58:43.616618Z",
          "iopub.execute_input": "2024-01-30T04:58:43.616938Z",
          "iopub.status.idle": "2024-01-30T04:58:43.62671Z",
          "shell.execute_reply.started": "2024-01-30T04:58:43.616901Z",
          "shell.execute_reply": "2024-01-30T04:58:43.625877Z"
        },
        "trusted": true,
        "id": "CYmw3QMOV9Xs"
      },
      "execution_count": null,
      "outputs": []
    },
    {
      "cell_type": "code",
      "source": [
        "for row in column_data[1:]:\n",
        "    row_data = row.find_all('td')\n",
        "    individual_row_data = [data.text.strip() for data in row_data]\n",
        "\n",
        "    length = len(df)\n",
        "    df.loc[length] = individual_row_data"
      ],
      "metadata": {
        "execution": {
          "iopub.status.busy": "2024-01-30T04:58:43.627905Z",
          "iopub.execute_input": "2024-01-30T04:58:43.628179Z",
          "iopub.status.idle": "2024-01-30T04:58:43.81772Z",
          "shell.execute_reply.started": "2024-01-30T04:58:43.628154Z",
          "shell.execute_reply": "2024-01-30T04:58:43.816594Z"
        },
        "trusted": true,
        "id": "ESTiql6VV9Xs"
      },
      "execution_count": null,
      "outputs": []
    },
    {
      "cell_type": "code",
      "source": [
        "df"
      ],
      "metadata": {
        "execution": {
          "iopub.status.busy": "2024-01-30T04:58:46.568011Z",
          "iopub.execute_input": "2024-01-30T04:58:46.568366Z",
          "iopub.status.idle": "2024-01-30T04:58:46.587606Z",
          "shell.execute_reply.started": "2024-01-30T04:58:46.568337Z",
          "shell.execute_reply": "2024-01-30T04:58:46.586758Z"
        },
        "trusted": true,
        "id": "5gIA-UYrV9Xt"
      },
      "execution_count": null,
      "outputs": []
    },
    {
      "cell_type": "code",
      "source": [
        "import os"
      ],
      "metadata": {
        "execution": {
          "iopub.status.busy": "2024-01-30T05:00:57.182014Z",
          "iopub.execute_input": "2024-01-30T05:00:57.1824Z",
          "iopub.status.idle": "2024-01-30T05:00:57.187772Z",
          "shell.execute_reply.started": "2024-01-30T05:00:57.182369Z",
          "shell.execute_reply": "2024-01-30T05:00:57.186646Z"
        },
        "trusted": true,
        "id": "pZbK0nsfV9Xt"
      },
      "execution_count": null,
      "outputs": []
    },
    {
      "cell_type": "code",
      "source": [
        "os.getcwd()"
      ],
      "metadata": {
        "execution": {
          "iopub.status.busy": "2024-01-30T05:01:39.154158Z",
          "iopub.execute_input": "2024-01-30T05:01:39.154663Z",
          "iopub.status.idle": "2024-01-30T05:01:39.161553Z",
          "shell.execute_reply.started": "2024-01-30T05:01:39.154622Z",
          "shell.execute_reply": "2024-01-30T05:01:39.160825Z"
        },
        "trusted": true,
        "id": "6rsXZwtpV9Xt"
      },
      "execution_count": null,
      "outputs": []
    },
    {
      "cell_type": "code",
      "source": [
        "df.to_csv(r'/kaggle/working/Largest companies by revenue.csv', index = False)"
      ],
      "metadata": {
        "execution": {
          "iopub.status.busy": "2024-01-30T05:02:58.088856Z",
          "iopub.execute_input": "2024-01-30T05:02:58.089265Z",
          "iopub.status.idle": "2024-01-30T05:02:58.100579Z",
          "shell.execute_reply.started": "2024-01-30T05:02:58.089236Z",
          "shell.execute_reply": "2024-01-30T05:02:58.099656Z"
        },
        "trusted": true,
        "id": "UFISzVVpV9Xt"
      },
      "execution_count": null,
      "outputs": []
    },
    {
      "cell_type": "code",
      "source": [],
      "metadata": {
        "id": "MtADrOlYV9Xt"
      },
      "execution_count": null,
      "outputs": []
    }
  ]
}